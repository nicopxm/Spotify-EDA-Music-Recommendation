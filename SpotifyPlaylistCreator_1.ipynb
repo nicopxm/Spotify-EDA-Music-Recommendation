{
 "cells": [
  {
   "cell_type": "markdown",
   "id": "d2fb4584-0824-4002-b50f-5b9e3771050b",
   "metadata": {},
   "source": [
    "## Import libraries"
   ]
  },
  {
   "cell_type": "code",
   "execution_count": 2,
   "id": "c52ffb4a-fc62-4697-a41f-178b6c7dfa41",
   "metadata": {},
   "outputs": [],
   "source": [
    "import os\n",
    "import spotipy\n",
    "from spotipy.oauth2 import SpotifyOAuth\n",
    "import pandas as pd\n",
    "from dotenv import load_dotenv\n",
    "from pyngrok import ngrok"
   ]
  },
  {
   "cell_type": "markdown",
   "id": "28196cc9-5182-403b-bb1b-b7d4813b4172",
   "metadata": {},
   "source": [
    "## Set up ngrok to tunnel the local redirect URI"
   ]
  },
  {
   "cell_type": "code",
   "execution_count": 4,
   "id": "bb0945c3-9b78-4948-bb2a-56c972995a6d",
   "metadata": {},
   "outputs": [
    {
     "name": "stdout",
     "output_type": "stream",
     "text": [
      "Public URL for OAuth callback: https://afdd-129-222-64-120.ngrok-free.app\n"
     ]
    }
   ],
   "source": [
    "public_url = \"https://afdd-129-222-64-120.ngrok-free.app\"\n",
    "print(f\"Public URL for OAuth callback: {public_url}\")"
   ]
  },
  {
   "cell_type": "markdown",
   "id": "46c00084-2c97-49d2-b4cb-959ed6d97a4c",
   "metadata": {},
   "source": [
    "## Load environment variables from the .env file into jupyter notebook"
   ]
  },
  {
   "cell_type": "code",
   "execution_count": 6,
   "id": "033ec049-26ee-45a5-a855-cd4f0dc917e9",
   "metadata": {},
   "outputs": [],
   "source": [
    "load_dotenv()\n",
    "client_id = os.getenv('SPOTIPY_CLIENT_ID')\n",
    "client_secret = os.getenv('SPOTIPY_CLIENT_SECRET')\n",
    "redirect_uri = os.getenv('SPOTIPY_REDIRECT_URI')"
   ]
  },
  {
   "cell_type": "markdown",
   "id": "b3e1e203-df59-4264-bd54-d6f68b703ef3",
   "metadata": {},
   "source": [
    "## Define the scope of access required for the Spotify API, specifically to modify public playlists\n",
    "## Initialize the SpotifyOAuth object with the required credentials and scope for authorization"
   ]
  },
  {
   "cell_type": "code",
   "execution_count": 8,
   "id": "278e79ac-6005-4141-8227-2333967d6d9a",
   "metadata": {},
   "outputs": [],
   "source": [
    "scope = 'playlist-read-private playlist-modify-public playlist-modify-private'\n",
    "sp_oauth = SpotifyOAuth(client_id=client_id, client_secret=client_secret, redirect_uri=redirect_uri, scope=scope)\n",
    "sp = spotipy.Spotify(auth_manager=sp_oauth)"
   ]
  },
  {
   "cell_type": "markdown",
   "id": "20fe9760-968a-45ba-a07b-c78e812da1f9",
   "metadata": {},
   "source": [
    "## Define playlist ID\n",
    "## Fetch tracks from playlist"
   ]
  },
  {
   "cell_type": "code",
   "execution_count": 10,
   "id": "8dd610ef-3905-4cc2-883d-1dab0cea5bad",
   "metadata": {},
   "outputs": [],
   "source": [
    "playlist_id = '5io7Q8iDB7sAMxqyTasntj'\n",
    "results = sp.playlist_tracks(playlist_id)"
   ]
  },
  {
   "cell_type": "markdown",
   "id": "62f171dd-7e5e-4c0a-936b-23a7df826f46",
   "metadata": {},
   "source": [
    "## Extract relevant information for each track, and returns it as a DataFrame"
   ]
  },
  {
   "cell_type": "code",
   "execution_count": 71,
   "id": "76b184fa-cec7-4b7b-b95a-b759e8fa71f7",
   "metadata": {},
   "outputs": [],
   "source": [
    "def fetch_playlist_tracks(sp, playlist_id):\n",
    "    results = sp.playlist_tracks(playlist_id)\n",
    "    tracks = []\n",
    "    \n",
    "    while results:\n",
    "        for item in results['items']:\n",
    "            track = item['track']\n",
    "            track_info = {\n",
    "                'track_name': track['name'],\n",
    "                'artist': track['artists'][0]['name'],\n",
    "                'track_popularity': track['popularity'],\n",
    "                'track_id': track['id'],\n",
    "                'track_duration_ms': track['duration_ms']\n",
    "            }\n",
    "            tracks.append(track_info)\n",
    "        # Check if there's a next page of tracks\n",
    "        if results['next']:\n",
    "            results = sp.next(results)\n",
    "        else:\n",
    "            break\n",
    "    \n",
    "    # Convert to DataFrame\n",
    "    return pd.DataFrame(tracks)"
   ]
  },
  {
   "cell_type": "markdown",
   "id": "d3a1d5bf-24fe-4477-b4f4-201ac330a716",
   "metadata": {},
   "source": [
    "## Fetch the tracks from the playlist and save to a DataFrame"
   ]
  },
  {
   "cell_type": "code",
   "execution_count": 75,
   "id": "b8e810e3-ce35-4863-ae9f-216b4854803e",
   "metadata": {},
   "outputs": [
    {
     "data": {
      "text/html": [
       "<div>\n",
       "<style scoped>\n",
       "    .dataframe tbody tr th:only-of-type {\n",
       "        vertical-align: middle;\n",
       "    }\n",
       "\n",
       "    .dataframe tbody tr th {\n",
       "        vertical-align: top;\n",
       "    }\n",
       "\n",
       "    .dataframe thead th {\n",
       "        text-align: right;\n",
       "    }\n",
       "</style>\n",
       "<table border=\"1\" class=\"dataframe\">\n",
       "  <thead>\n",
       "    <tr style=\"text-align: right;\">\n",
       "      <th></th>\n",
       "      <th>track_name</th>\n",
       "      <th>artist</th>\n",
       "      <th>track_popularity</th>\n",
       "      <th>track_id</th>\n",
       "      <th>track_duration_ms</th>\n",
       "    </tr>\n",
       "  </thead>\n",
       "  <tbody>\n",
       "    <tr>\n",
       "      <th>0</th>\n",
       "      <td>I've Never Been There</td>\n",
       "      <td>Yann Tiersen</td>\n",
       "      <td>0</td>\n",
       "      <td>743kvRcF2vBfvj8scCxbr8</td>\n",
       "      <td>94466</td>\n",
       "    </tr>\n",
       "    <tr>\n",
       "      <th>1</th>\n",
       "      <td>Azul</td>\n",
       "      <td>Little Jesus</td>\n",
       "      <td>55</td>\n",
       "      <td>3V4TnrGeVCxB2TLZ2pZQYO</td>\n",
       "      <td>254993</td>\n",
       "    </tr>\n",
       "    <tr>\n",
       "      <th>2</th>\n",
       "      <td>Under Pressure</td>\n",
       "      <td>Queen</td>\n",
       "      <td>49</td>\n",
       "      <td>7rgZTzcjofQJY5kz9FO3OS</td>\n",
       "      <td>246906</td>\n",
       "    </tr>\n",
       "    <tr>\n",
       "      <th>3</th>\n",
       "      <td>White Ferrari</td>\n",
       "      <td>Frank Ocean</td>\n",
       "      <td>83</td>\n",
       "      <td>2LMkwUfqC6S6s6qDVlEuzV</td>\n",
       "      <td>248807</td>\n",
       "    </tr>\n",
       "    <tr>\n",
       "      <th>4</th>\n",
       "      <td>Te Guardo</td>\n",
       "      <td>Silvana Estrada</td>\n",
       "      <td>0</td>\n",
       "      <td>5fGIyvtxYc7BiijDvqOFGN</td>\n",
       "      <td>201674</td>\n",
       "    </tr>\n",
       "    <tr>\n",
       "      <th>5</th>\n",
       "      <td>PIENSO EN TU MIRÁ - Cap.3: Celos</td>\n",
       "      <td>ROSALÍA</td>\n",
       "      <td>60</td>\n",
       "      <td>5r8mGKhCDIVWb3AG4hm0l0</td>\n",
       "      <td>193767</td>\n",
       "    </tr>\n",
       "    <tr>\n",
       "      <th>6</th>\n",
       "      <td>Savior</td>\n",
       "      <td>Rise Against</td>\n",
       "      <td>78</td>\n",
       "      <td>1vcxF91pWs9uNwDROuiCPB</td>\n",
       "      <td>242280</td>\n",
       "    </tr>\n",
       "    <tr>\n",
       "      <th>7</th>\n",
       "      <td>Did you know that there's a tunnel under Ocean...</td>\n",
       "      <td>Lana Del Rey</td>\n",
       "      <td>69</td>\n",
       "      <td>0HEzuLLojblUOaUSdmJ9gl</td>\n",
       "      <td>285050</td>\n",
       "    </tr>\n",
       "    <tr>\n",
       "      <th>8</th>\n",
       "      <td>Mia &amp; Sebastian’s Theme</td>\n",
       "      <td>Justin Hurwitz</td>\n",
       "      <td>69</td>\n",
       "      <td>1Vk4yRsz0iBzDiZEoFMQyv</td>\n",
       "      <td>98040</td>\n",
       "    </tr>\n",
       "    <tr>\n",
       "      <th>9</th>\n",
       "      <td>Use Somebody</td>\n",
       "      <td>Kings of Leon</td>\n",
       "      <td>67</td>\n",
       "      <td>2TYC9SaRhYypUQzB1ZVTG2</td>\n",
       "      <td>230760</td>\n",
       "    </tr>\n",
       "  </tbody>\n",
       "</table>\n",
       "</div>"
      ],
      "text/plain": [
       "                                          track_name           artist  \\\n",
       "0                              I've Never Been There     Yann Tiersen   \n",
       "1                                               Azul     Little Jesus   \n",
       "2                                     Under Pressure            Queen   \n",
       "3                                      White Ferrari      Frank Ocean   \n",
       "4                                          Te Guardo  Silvana Estrada   \n",
       "5                   PIENSO EN TU MIRÁ - Cap.3: Celos          ROSALÍA   \n",
       "6                                             Savior     Rise Against   \n",
       "7  Did you know that there's a tunnel under Ocean...     Lana Del Rey   \n",
       "8                            Mia & Sebastian’s Theme   Justin Hurwitz   \n",
       "9                                       Use Somebody    Kings of Leon   \n",
       "\n",
       "   track_popularity                track_id  track_duration_ms  \n",
       "0                 0  743kvRcF2vBfvj8scCxbr8              94466  \n",
       "1                55  3V4TnrGeVCxB2TLZ2pZQYO             254993  \n",
       "2                49  7rgZTzcjofQJY5kz9FO3OS             246906  \n",
       "3                83  2LMkwUfqC6S6s6qDVlEuzV             248807  \n",
       "4                 0  5fGIyvtxYc7BiijDvqOFGN             201674  \n",
       "5                60  5r8mGKhCDIVWb3AG4hm0l0             193767  \n",
       "6                78  1vcxF91pWs9uNwDROuiCPB             242280  \n",
       "7                69  0HEzuLLojblUOaUSdmJ9gl             285050  \n",
       "8                69  1Vk4yRsz0iBzDiZEoFMQyv              98040  \n",
       "9                67  2TYC9SaRhYypUQzB1ZVTG2             230760  "
      ]
     },
     "execution_count": 75,
     "metadata": {},
     "output_type": "execute_result"
    }
   ],
   "source": [
    "# Fetch the tracks from the playlist and save to a DataFrame\n",
    "fernandas_top10_tracks = fetch_playlist_tracks(sp, playlist_id)\n",
    "\n",
    "fernandas_top10_tracks"
   ]
  },
  {
   "cell_type": "markdown",
   "id": "0e748a8a-b964-48df-9b1c-70c33cc7b38d",
   "metadata": {},
   "source": [
    "## Function to get recommendations based on Fernanda's top 10 tracks"
   ]
  },
  {
   "cell_type": "code",
   "execution_count": 77,
   "id": "7c5a5648-15ce-4762-bfa7-49bf132da38e",
   "metadata": {},
   "outputs": [],
   "source": [
    "def get_recommendations(sp, track_ids, limit=25):\n",
    "    recommendations = sp.recommendations(seed_tracks=track_ids[:5], limit=limit)  # Spotify allows a maximum of 5 seed tracks\n",
    "    recommended_tracks = []\n",
    "    \n",
    "    for track in recommendations['tracks']:\n",
    "        track_info = {\n",
    "            'track_id': track['id'],\n",
    "            'track_name': track['name'],\n",
    "            'artist_name': track['artists'][0]['name']  # Get the first artist\n",
    "        }\n",
    "        recommended_tracks.append(track_info)\n",
    "    \n",
    "    return recommended_tracks"
   ]
  },
  {
   "cell_type": "markdown",
   "id": "8cfa854b-038a-4b66-bea0-fe3bf0ff5c3d",
   "metadata": {},
   "source": [
    "## Function to create a new playlist"
   ]
  },
  {
   "cell_type": "code",
   "execution_count": 79,
   "id": "b26cb901-5fe5-460a-9d22-e996d166a451",
   "metadata": {},
   "outputs": [],
   "source": [
    "def create_playlist(sp, user_id, playlist_name, playlist_description):\n",
    "    playlist = sp.user_playlist_create(user=user_id, name=playlist_name, public=True, description=playlist_description)\n",
    "    return playlist['id']"
   ]
  },
  {
   "cell_type": "markdown",
   "id": "0ca3e9a5-c446-4bac-9d57-653b6cb86bc7",
   "metadata": {},
   "source": [
    "## Function to add tracks to the new playlist"
   ]
  },
  {
   "cell_type": "code",
   "execution_count": 81,
   "id": "464c8d5d-3232-4989-a75e-f003bf61a4a8",
   "metadata": {},
   "outputs": [],
   "source": [
    "def add_tracks_to_playlist(sp, playlist_id, track_ids):\n",
    "    sp.playlist_add_items(playlist_id, track_ids)"
   ]
  },
  {
   "cell_type": "markdown",
   "id": "7ae44051-83d5-4ebc-bf90-c5d372db091e",
   "metadata": {},
   "source": [
    "## Step 1: Get track IDs"
   ]
  },
  {
   "cell_type": "code",
   "execution_count": 83,
   "id": "6ee82a9d-9fe7-4b47-97af-4c00d2b132da",
   "metadata": {},
   "outputs": [],
   "source": [
    "fernanda_top_10_track_ids = fernandas_top10_tracks['track_id'].tolist()"
   ]
  },
  {
   "cell_type": "markdown",
   "id": "2b2c81a1-eab6-474a-9e1c-43f7fcdd2325",
   "metadata": {},
   "source": [
    "## Fetch 25 recommended tracks based on Fernanda's top 10 tracks"
   ]
  },
  {
   "cell_type": "code",
   "execution_count": 89,
   "id": "51e8553e-41ae-46d0-9ab3-8bb111cf4f94",
   "metadata": {},
   "outputs": [],
   "source": [
    "recommended_tracks = get_recommendations(sp, fernanda_top_10_track_ids, limit=25)"
   ]
  },
  {
   "cell_type": "markdown",
   "id": "197ee773-d505-442e-9902-789bb8789911",
   "metadata": {},
   "source": [
    "## Extract track IDs for adding to the playlist"
   ]
  },
  {
   "cell_type": "code",
   "execution_count": 91,
   "id": "63a1ac89-1660-462e-aae6-b7d3297f6fe5",
   "metadata": {},
   "outputs": [],
   "source": [
    "recommended_track_ids = [track['track_id'] for track in recommended_tracks]"
   ]
  },
  {
   "cell_type": "markdown",
   "id": "ae8a660e-afef-4b63-878f-a460af0822b9",
   "metadata": {},
   "source": [
    "## Create a new playlist"
   ]
  },
  {
   "cell_type": "code",
   "execution_count": 93,
   "id": "479bfc67-9b79-4cad-9c23-e096ed2adb38",
   "metadata": {},
   "outputs": [],
   "source": [
    "user_id = sp.me()['id']  # Get the current user's ID\n",
    "playlist_name = 'Fernandas Recommended Playlist'\n",
    "playlist_description = 'Playlist created using Fernandas top 10 tracks using Python'\n",
    "new_playlist_id = create_playlist(sp, user_id, playlist_name, playlist_description)"
   ]
  },
  {
   "cell_type": "markdown",
   "id": "b13de505-25ec-4429-a373-85fa1c736828",
   "metadata": {},
   "source": [
    "## Add the recommended tracks to the new playlist"
   ]
  },
  {
   "cell_type": "code",
   "execution_count": 95,
   "id": "4f2ea8c8-5f4a-42ed-871b-1bca302c1c71",
   "metadata": {},
   "outputs": [],
   "source": [
    "add_tracks_to_playlist(sp, new_playlist_id, recommended_track_ids)"
   ]
  },
  {
   "cell_type": "markdown",
   "id": "417c7979-ad2d-448b-943c-e5af58fec2ab",
   "metadata": {},
   "source": [
    "## Print out the tracks that were added to the new playlist"
   ]
  },
  {
   "cell_type": "code",
   "execution_count": 97,
   "id": "c5d38492-e702-4a31-84e9-4f1b3ccce22f",
   "metadata": {},
   "outputs": [
    {
     "name": "stdout",
     "output_type": "stream",
     "text": [
      "Playlist 'Fernandas Recommended Playlist' created successfully with the following tracks:\n",
      "Début by Mélanie Laurent\n",
      "Nothing Else Matters by Metallica\n",
      "See You Again (feat. Kali Uchis) by Tyler, The Creator\n",
      "Por Tu Olor by El Kanka\n",
      "Friday I'm In Love by The Cure\n",
      "Truco by Little Jesus\n",
      "Devil In A New Dress by Kanye West\n",
      "Libro Abierto by Leonel García\n",
      "Te Guardo by Silvana Estrada\n",
      "Idea 1 by Gibran Alcocer\n",
      "Químicos by Little Jesus\n",
      "8 mm by Yann Tiersen\n",
      "Sonata No. 14 \"Moonlight\" in C-Sharp Minor\", Op. 27 No. 2: I. Adagio sostenuto by Ludwig van Beethoven\n",
      "Provider by Frank Ocean\n",
      "Wildfire (feat. Frank Ocean) by John Mayer\n",
      "Infrunami by Steve Lacy\n",
      "Cruel by Little Jesus\n",
      "Salento by René Aubry\n",
      "Death On Two Legs (Dedicated To...) - Remastered 2011 by Queen\n",
      "Californication by Red Hot Chili Peppers\n",
      "Nagano by CLUBZ\n",
      "La Despedida by Silvana Estrada\n",
      "Los Ángeles, California by Little Jesus\n",
      "Sinmigo by José Madero\n",
      "Vámonos De Viaje by Bandalos Chinos\n"
     ]
    }
   ],
   "source": [
    "print(f\"Playlist '{playlist_name}' created successfully with the following tracks:\")\n",
    "for track in recommended_tracks:\n",
    "    print(f\"{track['track_name']} by {track['artist_name']}\")"
   ]
  },
  {
   "cell_type": "markdown",
   "id": "0adb45ea-1e0b-4f79-a75b-8c2a1bf6bb45",
   "metadata": {},
   "source": [
    "## Save the new playlist to a Dataframe\n",
    "## Add the new playlist ID to the DataFrame"
   ]
  },
  {
   "cell_type": "code",
   "execution_count": 113,
   "id": "db1f47e2-fe0f-4c77-8a68-b581d8468110",
   "metadata": {},
   "outputs": [
    {
     "data": {
      "text/html": [
       "<div>\n",
       "<style scoped>\n",
       "    .dataframe tbody tr th:only-of-type {\n",
       "        vertical-align: middle;\n",
       "    }\n",
       "\n",
       "    .dataframe tbody tr th {\n",
       "        vertical-align: top;\n",
       "    }\n",
       "\n",
       "    .dataframe thead th {\n",
       "        text-align: right;\n",
       "    }\n",
       "</style>\n",
       "<table border=\"1\" class=\"dataframe\">\n",
       "  <thead>\n",
       "    <tr style=\"text-align: right;\">\n",
       "      <th></th>\n",
       "      <th>track_id</th>\n",
       "      <th>track_name</th>\n",
       "      <th>artist_name</th>\n",
       "      <th>playlist_id</th>\n",
       "    </tr>\n",
       "  </thead>\n",
       "  <tbody>\n",
       "    <tr>\n",
       "      <th>0</th>\n",
       "      <td>6YS1MXqso0zlmcL4OV1kXk</td>\n",
       "      <td>Début</td>\n",
       "      <td>Mélanie Laurent</td>\n",
       "      <td>5z36wGgRMbikap6O96oNgf</td>\n",
       "    </tr>\n",
       "    <tr>\n",
       "      <th>1</th>\n",
       "      <td>0nLiqZ6A27jJri2VCalIUs</td>\n",
       "      <td>Nothing Else Matters</td>\n",
       "      <td>Metallica</td>\n",
       "      <td>5z36wGgRMbikap6O96oNgf</td>\n",
       "    </tr>\n",
       "    <tr>\n",
       "      <th>2</th>\n",
       "      <td>7KA4W4McWYRpgf0fWsJZWB</td>\n",
       "      <td>See You Again (feat. Kali Uchis)</td>\n",
       "      <td>Tyler, The Creator</td>\n",
       "      <td>5z36wGgRMbikap6O96oNgf</td>\n",
       "    </tr>\n",
       "    <tr>\n",
       "      <th>3</th>\n",
       "      <td>69gBnFLDtc2lub6xL0sfi9</td>\n",
       "      <td>Por Tu Olor</td>\n",
       "      <td>El Kanka</td>\n",
       "      <td>5z36wGgRMbikap6O96oNgf</td>\n",
       "    </tr>\n",
       "    <tr>\n",
       "      <th>4</th>\n",
       "      <td>4QlzkaRHtU8gAdwqjWmO8n</td>\n",
       "      <td>Friday I'm In Love</td>\n",
       "      <td>The Cure</td>\n",
       "      <td>5z36wGgRMbikap6O96oNgf</td>\n",
       "    </tr>\n",
       "    <tr>\n",
       "      <th>5</th>\n",
       "      <td>2SrO64EGiQNphOLliy041R</td>\n",
       "      <td>Truco</td>\n",
       "      <td>Little Jesus</td>\n",
       "      <td>5z36wGgRMbikap6O96oNgf</td>\n",
       "    </tr>\n",
       "    <tr>\n",
       "      <th>6</th>\n",
       "      <td>1UGD3lW3tDmgZfAVDh6w7r</td>\n",
       "      <td>Devil In A New Dress</td>\n",
       "      <td>Kanye West</td>\n",
       "      <td>5z36wGgRMbikap6O96oNgf</td>\n",
       "    </tr>\n",
       "    <tr>\n",
       "      <th>7</th>\n",
       "      <td>4WPbeHsN2vaxYIY4rQ2588</td>\n",
       "      <td>Libro Abierto</td>\n",
       "      <td>Leonel García</td>\n",
       "      <td>5z36wGgRMbikap6O96oNgf</td>\n",
       "    </tr>\n",
       "    <tr>\n",
       "      <th>8</th>\n",
       "      <td>1cvSHX6jBzX93A6b6Q1j3K</td>\n",
       "      <td>Te Guardo</td>\n",
       "      <td>Silvana Estrada</td>\n",
       "      <td>5z36wGgRMbikap6O96oNgf</td>\n",
       "    </tr>\n",
       "    <tr>\n",
       "      <th>9</th>\n",
       "      <td>3kJACFlgn1rg0I0l4XmzLI</td>\n",
       "      <td>Idea 1</td>\n",
       "      <td>Gibran Alcocer</td>\n",
       "      <td>5z36wGgRMbikap6O96oNgf</td>\n",
       "    </tr>\n",
       "    <tr>\n",
       "      <th>10</th>\n",
       "      <td>0XSN5gjS49IiIzNejxMUlz</td>\n",
       "      <td>Químicos</td>\n",
       "      <td>Little Jesus</td>\n",
       "      <td>5z36wGgRMbikap6O96oNgf</td>\n",
       "    </tr>\n",
       "    <tr>\n",
       "      <th>11</th>\n",
       "      <td>3CUUT7KsjXOE0b3wn7Hh8Q</td>\n",
       "      <td>8 mm</td>\n",
       "      <td>Yann Tiersen</td>\n",
       "      <td>5z36wGgRMbikap6O96oNgf</td>\n",
       "    </tr>\n",
       "    <tr>\n",
       "      <th>12</th>\n",
       "      <td>3DNRdudZ2SstnDCVKFdXxG</td>\n",
       "      <td>Sonata No. 14 \"Moonlight\" in C-Sharp Minor\", O...</td>\n",
       "      <td>Ludwig van Beethoven</td>\n",
       "      <td>5z36wGgRMbikap6O96oNgf</td>\n",
       "    </tr>\n",
       "    <tr>\n",
       "      <th>13</th>\n",
       "      <td>6R6ihJhRbgu7JxJKIbW57w</td>\n",
       "      <td>Provider</td>\n",
       "      <td>Frank Ocean</td>\n",
       "      <td>5z36wGgRMbikap6O96oNgf</td>\n",
       "    </tr>\n",
       "    <tr>\n",
       "      <th>14</th>\n",
       "      <td>4wOYt5nULk1Cu8pwJWk26m</td>\n",
       "      <td>Wildfire (feat. Frank Ocean)</td>\n",
       "      <td>John Mayer</td>\n",
       "      <td>5z36wGgRMbikap6O96oNgf</td>\n",
       "    </tr>\n",
       "    <tr>\n",
       "      <th>15</th>\n",
       "      <td>0f8eRy9A0n6zXpKSHSCAEp</td>\n",
       "      <td>Infrunami</td>\n",
       "      <td>Steve Lacy</td>\n",
       "      <td>5z36wGgRMbikap6O96oNgf</td>\n",
       "    </tr>\n",
       "    <tr>\n",
       "      <th>16</th>\n",
       "      <td>5WB0z3fy5pcngGdLbI8Ayt</td>\n",
       "      <td>Cruel</td>\n",
       "      <td>Little Jesus</td>\n",
       "      <td>5z36wGgRMbikap6O96oNgf</td>\n",
       "    </tr>\n",
       "    <tr>\n",
       "      <th>17</th>\n",
       "      <td>7fP1rYLOp7Yj7v9RCNRufc</td>\n",
       "      <td>Salento</td>\n",
       "      <td>René Aubry</td>\n",
       "      <td>5z36wGgRMbikap6O96oNgf</td>\n",
       "    </tr>\n",
       "    <tr>\n",
       "      <th>18</th>\n",
       "      <td>2MvRMWU2ILRcFEU8WWbuP8</td>\n",
       "      <td>Death On Two Legs (Dedicated To...) - Remaster...</td>\n",
       "      <td>Queen</td>\n",
       "      <td>5z36wGgRMbikap6O96oNgf</td>\n",
       "    </tr>\n",
       "    <tr>\n",
       "      <th>19</th>\n",
       "      <td>48UPSzbZjgc449aqz8bxox</td>\n",
       "      <td>Californication</td>\n",
       "      <td>Red Hot Chili Peppers</td>\n",
       "      <td>5z36wGgRMbikap6O96oNgf</td>\n",
       "    </tr>\n",
       "    <tr>\n",
       "      <th>20</th>\n",
       "      <td>7D3hMIiRJGmtryTFDoqM8k</td>\n",
       "      <td>Nagano</td>\n",
       "      <td>CLUBZ</td>\n",
       "      <td>5z36wGgRMbikap6O96oNgf</td>\n",
       "    </tr>\n",
       "    <tr>\n",
       "      <th>21</th>\n",
       "      <td>23LzGBfc2YIMessin3RCCf</td>\n",
       "      <td>La Despedida</td>\n",
       "      <td>Silvana Estrada</td>\n",
       "      <td>5z36wGgRMbikap6O96oNgf</td>\n",
       "    </tr>\n",
       "    <tr>\n",
       "      <th>22</th>\n",
       "      <td>5VYaHqFTsRjvqgaox7Iu6C</td>\n",
       "      <td>Los Ángeles, California</td>\n",
       "      <td>Little Jesus</td>\n",
       "      <td>5z36wGgRMbikap6O96oNgf</td>\n",
       "    </tr>\n",
       "    <tr>\n",
       "      <th>23</th>\n",
       "      <td>5iwkMedjhIsxJnuV2XvRJ7</td>\n",
       "      <td>Sinmigo</td>\n",
       "      <td>José Madero</td>\n",
       "      <td>5z36wGgRMbikap6O96oNgf</td>\n",
       "    </tr>\n",
       "    <tr>\n",
       "      <th>24</th>\n",
       "      <td>6KVK1XO1Xzy7KGfoOockqA</td>\n",
       "      <td>Vámonos De Viaje</td>\n",
       "      <td>Bandalos Chinos</td>\n",
       "      <td>5z36wGgRMbikap6O96oNgf</td>\n",
       "    </tr>\n",
       "  </tbody>\n",
       "</table>\n",
       "</div>"
      ],
      "text/plain": [
       "                  track_id                                         track_name  \\\n",
       "0   6YS1MXqso0zlmcL4OV1kXk                                              Début   \n",
       "1   0nLiqZ6A27jJri2VCalIUs                               Nothing Else Matters   \n",
       "2   7KA4W4McWYRpgf0fWsJZWB                   See You Again (feat. Kali Uchis)   \n",
       "3   69gBnFLDtc2lub6xL0sfi9                                        Por Tu Olor   \n",
       "4   4QlzkaRHtU8gAdwqjWmO8n                                 Friday I'm In Love   \n",
       "5   2SrO64EGiQNphOLliy041R                                              Truco   \n",
       "6   1UGD3lW3tDmgZfAVDh6w7r                               Devil In A New Dress   \n",
       "7   4WPbeHsN2vaxYIY4rQ2588                                      Libro Abierto   \n",
       "8   1cvSHX6jBzX93A6b6Q1j3K                                          Te Guardo   \n",
       "9   3kJACFlgn1rg0I0l4XmzLI                                             Idea 1   \n",
       "10  0XSN5gjS49IiIzNejxMUlz                                          Químicos   \n",
       "11  3CUUT7KsjXOE0b3wn7Hh8Q                                               8 mm   \n",
       "12  3DNRdudZ2SstnDCVKFdXxG  Sonata No. 14 \"Moonlight\" in C-Sharp Minor\", O...   \n",
       "13  6R6ihJhRbgu7JxJKIbW57w                                           Provider   \n",
       "14  4wOYt5nULk1Cu8pwJWk26m                       Wildfire (feat. Frank Ocean)   \n",
       "15  0f8eRy9A0n6zXpKSHSCAEp                                          Infrunami   \n",
       "16  5WB0z3fy5pcngGdLbI8Ayt                                              Cruel   \n",
       "17  7fP1rYLOp7Yj7v9RCNRufc                                            Salento   \n",
       "18  2MvRMWU2ILRcFEU8WWbuP8  Death On Two Legs (Dedicated To...) - Remaster...   \n",
       "19  48UPSzbZjgc449aqz8bxox                                    Californication   \n",
       "20  7D3hMIiRJGmtryTFDoqM8k                                             Nagano   \n",
       "21  23LzGBfc2YIMessin3RCCf                                       La Despedida   \n",
       "22  5VYaHqFTsRjvqgaox7Iu6C                            Los Ángeles, California   \n",
       "23  5iwkMedjhIsxJnuV2XvRJ7                                            Sinmigo   \n",
       "24  6KVK1XO1Xzy7KGfoOockqA                                   Vámonos De Viaje   \n",
       "\n",
       "              artist_name             playlist_id  \n",
       "0         Mélanie Laurent  5z36wGgRMbikap6O96oNgf  \n",
       "1               Metallica  5z36wGgRMbikap6O96oNgf  \n",
       "2      Tyler, The Creator  5z36wGgRMbikap6O96oNgf  \n",
       "3                El Kanka  5z36wGgRMbikap6O96oNgf  \n",
       "4                The Cure  5z36wGgRMbikap6O96oNgf  \n",
       "5            Little Jesus  5z36wGgRMbikap6O96oNgf  \n",
       "6              Kanye West  5z36wGgRMbikap6O96oNgf  \n",
       "7           Leonel García  5z36wGgRMbikap6O96oNgf  \n",
       "8         Silvana Estrada  5z36wGgRMbikap6O96oNgf  \n",
       "9          Gibran Alcocer  5z36wGgRMbikap6O96oNgf  \n",
       "10           Little Jesus  5z36wGgRMbikap6O96oNgf  \n",
       "11           Yann Tiersen  5z36wGgRMbikap6O96oNgf  \n",
       "12   Ludwig van Beethoven  5z36wGgRMbikap6O96oNgf  \n",
       "13            Frank Ocean  5z36wGgRMbikap6O96oNgf  \n",
       "14             John Mayer  5z36wGgRMbikap6O96oNgf  \n",
       "15             Steve Lacy  5z36wGgRMbikap6O96oNgf  \n",
       "16           Little Jesus  5z36wGgRMbikap6O96oNgf  \n",
       "17             René Aubry  5z36wGgRMbikap6O96oNgf  \n",
       "18                  Queen  5z36wGgRMbikap6O96oNgf  \n",
       "19  Red Hot Chili Peppers  5z36wGgRMbikap6O96oNgf  \n",
       "20                  CLUBZ  5z36wGgRMbikap6O96oNgf  \n",
       "21        Silvana Estrada  5z36wGgRMbikap6O96oNgf  \n",
       "22           Little Jesus  5z36wGgRMbikap6O96oNgf  \n",
       "23            José Madero  5z36wGgRMbikap6O96oNgf  \n",
       "24        Bandalos Chinos  5z36wGgRMbikap6O96oNgf  "
      ]
     },
     "execution_count": 113,
     "metadata": {},
     "output_type": "execute_result"
    }
   ],
   "source": [
    "fernandas_recommendation_playlist = pd.DataFrame(recommended_tracks)\n",
    "\n",
    "fernandas_recommendation_playlist['playlist_id'] = new_playlist_id\n",
    "\n",
    "fernandas_recommendation_playlist"
   ]
  },
  {
   "cell_type": "code",
   "execution_count": 144,
   "id": "4d6039b9-1030-45e8-998e-ff0dad279658",
   "metadata": {},
   "outputs": [],
   "source": [
    "fernandas_recommendation_playlist.to_csv('fernandas_recommendation_playlist_1.csv', index=False)"
   ]
  },
  {
   "cell_type": "code",
   "execution_count": 159,
   "id": "7646f3dd-89eb-4dfd-89f9-9c7551a2b0d9",
   "metadata": {},
   "outputs": [
    {
     "data": {
      "text/html": [
       "<div>\n",
       "<style scoped>\n",
       "    .dataframe tbody tr th:only-of-type {\n",
       "        vertical-align: middle;\n",
       "    }\n",
       "\n",
       "    .dataframe tbody tr th {\n",
       "        vertical-align: top;\n",
       "    }\n",
       "\n",
       "    .dataframe thead th {\n",
       "        text-align: right;\n",
       "    }\n",
       "</style>\n",
       "<table border=\"1\" class=\"dataframe\">\n",
       "  <thead>\n",
       "    <tr style=\"text-align: right;\">\n",
       "      <th></th>\n",
       "      <th>track_id</th>\n",
       "      <th>track_name</th>\n",
       "      <th>artist_name</th>\n",
       "      <th>playlist_id</th>\n",
       "    </tr>\n",
       "  </thead>\n",
       "  <tbody>\n",
       "    <tr>\n",
       "      <th>0</th>\n",
       "      <td>6YS1MXqso0zlmcL4OV1kXk</td>\n",
       "      <td>Début</td>\n",
       "      <td>Mélanie Laurent</td>\n",
       "      <td>5z36wGgRMbikap6O96oNgf</td>\n",
       "    </tr>\n",
       "    <tr>\n",
       "      <th>1</th>\n",
       "      <td>0nLiqZ6A27jJri2VCalIUs</td>\n",
       "      <td>Nothing Else Matters</td>\n",
       "      <td>Metallica</td>\n",
       "      <td>5z36wGgRMbikap6O96oNgf</td>\n",
       "    </tr>\n",
       "    <tr>\n",
       "      <th>2</th>\n",
       "      <td>7KA4W4McWYRpgf0fWsJZWB</td>\n",
       "      <td>See You Again (feat. Kali Uchis)</td>\n",
       "      <td>Tyler, The Creator</td>\n",
       "      <td>5z36wGgRMbikap6O96oNgf</td>\n",
       "    </tr>\n",
       "    <tr>\n",
       "      <th>3</th>\n",
       "      <td>69gBnFLDtc2lub6xL0sfi9</td>\n",
       "      <td>Por Tu Olor</td>\n",
       "      <td>El Kanka</td>\n",
       "      <td>5z36wGgRMbikap6O96oNgf</td>\n",
       "    </tr>\n",
       "    <tr>\n",
       "      <th>4</th>\n",
       "      <td>4QlzkaRHtU8gAdwqjWmO8n</td>\n",
       "      <td>Friday I'm In Love</td>\n",
       "      <td>The Cure</td>\n",
       "      <td>5z36wGgRMbikap6O96oNgf</td>\n",
       "    </tr>\n",
       "  </tbody>\n",
       "</table>\n",
       "</div>"
      ],
      "text/plain": [
       "                 track_id                        track_name  \\\n",
       "0  6YS1MXqso0zlmcL4OV1kXk                             Début   \n",
       "1  0nLiqZ6A27jJri2VCalIUs              Nothing Else Matters   \n",
       "2  7KA4W4McWYRpgf0fWsJZWB  See You Again (feat. Kali Uchis)   \n",
       "3  69gBnFLDtc2lub6xL0sfi9                       Por Tu Olor   \n",
       "4  4QlzkaRHtU8gAdwqjWmO8n                Friday I'm In Love   \n",
       "\n",
       "          artist_name             playlist_id  \n",
       "0     Mélanie Laurent  5z36wGgRMbikap6O96oNgf  \n",
       "1           Metallica  5z36wGgRMbikap6O96oNgf  \n",
       "2  Tyler, The Creator  5z36wGgRMbikap6O96oNgf  \n",
       "3            El Kanka  5z36wGgRMbikap6O96oNgf  \n",
       "4            The Cure  5z36wGgRMbikap6O96oNgf  "
      ]
     },
     "execution_count": 159,
     "metadata": {},
     "output_type": "execute_result"
    }
   ],
   "source": [
    "fernandas_recommendation_playlist.head()"
   ]
  }
 ],
 "metadata": {
  "kernelspec": {
   "display_name": "Python 3 (ipykernel)",
   "language": "python",
   "name": "python3"
  },
  "language_info": {
   "codemirror_mode": {
    "name": "ipython",
    "version": 3
   },
   "file_extension": ".py",
   "mimetype": "text/x-python",
   "name": "python",
   "nbconvert_exporter": "python",
   "pygments_lexer": "ipython3",
   "version": "3.12.4"
  }
 },
 "nbformat": 4,
 "nbformat_minor": 5
}
