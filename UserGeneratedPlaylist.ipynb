{
 "cells": [
  {
   "cell_type": "markdown",
   "id": "0e4c6b62-8aa1-46fa-abed-293d9ea852a4",
   "metadata": {},
   "source": [
    "## Import libraries"
   ]
  },
  {
   "cell_type": "code",
   "execution_count": 2,
   "id": "5c4f3ae7-25bc-4455-a2b5-b7dbaf7b9f24",
   "metadata": {},
   "outputs": [],
   "source": [
    "import spotipy\n",
    "from spotipy.oauth2 import SpotifyOAuth\n",
    "import pandas as pd\n",
    "import os\n",
    "from dotenv import load_dotenv"
   ]
  },
  {
   "cell_type": "markdown",
   "id": "7b79b2ff-560b-4704-8b44-bd82d7a18cb4",
   "metadata": {},
   "source": [
    "## Load environment variables from the .env file into jupyter notebook"
   ]
  },
  {
   "cell_type": "code",
   "execution_count": 5,
   "id": "6ccd53b7-72f9-4b3a-900d-87e7e1dbbaae",
   "metadata": {},
   "outputs": [
    {
     "name": "stdout",
     "output_type": "stream",
     "text": [
      "Client ID and Client Secret are now loaded without showing them in code.\n"
     ]
    }
   ],
   "source": [
    "load_dotenv()\n",
    "\n",
    "client_id = os.getenv('SPOTIPY_CLIENT_ID')\n",
    "client_secret = os.getenv('SPOTIPY_CLIENT_SECRET')\n",
    "redirect_uri = os.getenv('SPOTIPY_REDIRECT_URI')\n",
    "\n",
    "print(\"Client ID and Client Secret are now loaded without showing them in code.\")"
   ]
  },
  {
   "cell_type": "markdown",
   "id": "e71bc74b-ed19-4e65-b026-1ec404e919f8",
   "metadata": {},
   "source": [
    "## Initialize the SpotifyOAuth object with the required credentials and scope for authorization"
   ]
  },
  {
   "cell_type": "code",
   "execution_count": 8,
   "id": "7ae65359-62a8-4568-860b-1eeff9936ffb",
   "metadata": {},
   "outputs": [],
   "source": [
    "sp = spotipy.Spotify(auth_manager=SpotifyOAuth(client_id=client_id,\n",
    "                                               client_secret=client_secret,\n",
    "                                               redirect_uri=redirect_uri,\n",
    "                                               scope=\"playlist-modify-public user-top-read\"))"
   ]
  },
  {
   "cell_type": "markdown",
   "id": "894b81ed-635b-4118-bd7c-5e8b71900033",
   "metadata": {},
   "source": [
    "## Get tracks from public playlist "
   ]
  },
  {
   "cell_type": "code",
   "execution_count": 12,
   "id": "6d083e28-d42f-48cb-96e7-8ce0d4a157e5",
   "metadata": {},
   "outputs": [],
   "source": [
    "public_playlist_id = '5io7Q8iDB7sAMxqyTasntj'\n",
    "public_playlist_tracks = sp.playlist_tracks(public_playlist_id)['items']\n",
    "public_playlist_track_ids = [track['track']['id'] for track in public_playlist_tracks[:5]] "
   ]
  },
  {
   "cell_type": "markdown",
   "id": "6d03eba1-5aae-40cf-9cf8-f414feb6a4ce",
   "metadata": {},
   "source": [
    "## Get user's top tracks and artists"
   ]
  },
  {
   "cell_type": "code",
   "execution_count": 14,
   "id": "251821d9-7dcc-4335-bbf9-8c1a569afd91",
   "metadata": {},
   "outputs": [],
   "source": [
    "user_top_tracks = sp.current_user_top_tracks(limit=5)['items']\n",
    "user_top_track_ids = [track['id'] for track in user_top_tracks]"
   ]
  },
  {
   "cell_type": "code",
   "execution_count": 18,
   "id": "b5a3526d-5dd8-4ac5-974f-b30253aeb04a",
   "metadata": {},
   "outputs": [],
   "source": [
    "user_top_artists = sp.current_user_top_artists(limit=3)['items']\n",
    "user_top_artist_ids = [artist['id'] for artist in user_top_artists]"
   ]
  },
  {
   "cell_type": "markdown",
   "id": "da75f500-7bea-4cc3-b2df-cb2ba283694e",
   "metadata": {},
   "source": [
    "## Limiting to 5 seeds (mixing artists and tracks)"
   ]
  },
  {
   "cell_type": "code",
   "execution_count": 30,
   "id": "3cbcfac0-7343-4a64-acd2-97a3c75407e4",
   "metadata": {},
   "outputs": [],
   "source": [
    "seed_tracks = public_playlist_track_ids[:3]  # 3 track seeds\n",
    "seed_artists = user_top_artist_ids[:2]  # 2 artist seeds"
   ]
  },
  {
   "cell_type": "markdown",
   "id": "2c42f8c6-b51a-45de-9779-3bfebd805ed8",
   "metadata": {},
   "source": [
    "## Fetch recommendations using combined seeds"
   ]
  },
  {
   "cell_type": "code",
   "execution_count": 32,
   "id": "74fa6231-3efa-4d23-8fd6-fd3f8c02217c",
   "metadata": {},
   "outputs": [],
   "source": [
    "recommendations = sp.recommendations(seed_tracks=seed_tracks, seed_artists=seed_artists, limit=25)"
   ]
  },
  {
   "cell_type": "markdown",
   "id": "a271f3c9-c58d-42cd-9b31-5f4221369d25",
   "metadata": {},
   "source": [
    "## Extract recommended track IDs"
   ]
  },
  {
   "cell_type": "code",
   "execution_count": 34,
   "id": "0c820e7f-65e4-4cfe-8e1a-b16159537c5a",
   "metadata": {},
   "outputs": [],
   "source": [
    "recommended_track_ids = [track['id'] for track in recommendations['tracks']]"
   ]
  },
  {
   "cell_type": "markdown",
   "id": "4a40e5af-c86b-477a-bfad-ac09fbf1344e",
   "metadata": {},
   "source": [
    "## Extract recommended track details (track ID, name, and artist)"
   ]
  },
  {
   "cell_type": "code",
   "execution_count": 36,
   "id": "c11ac39e-9257-4307-9121-64058175e255",
   "metadata": {},
   "outputs": [],
   "source": [
    "recommended_tracks = []\n",
    "for track in recommendations['tracks']:\n",
    "    track_id = track['id']\n",
    "    track_name = track['name']\n",
    "    track_artist = ', '.join([artist['name'] for artist in track['artists']])\n",
    "    recommended_tracks.append({\n",
    "        'Track ID': track_id,\n",
    "        'Track Name': track_name,\n",
    "        'Artist': track_artist\n",
    "    })"
   ]
  },
  {
   "cell_type": "markdown",
   "id": "3dcad7a8-230f-4f83-90b6-1599dae75dd2",
   "metadata": {},
   "source": [
    "## Create a new playlist and add the recommended tracks"
   ]
  },
  {
   "cell_type": "code",
   "execution_count": 42,
   "id": "1f1b5727-b525-4917-9afd-fd5f89b99104",
   "metadata": {},
   "outputs": [],
   "source": [
    "user_id = sp.me()['id']\n",
    "playlist_name = 'User-Generated Playlist'\n",
    "playlist_description = 'This playlist contains songs similar to tracks from a public playlist'\n",
    "new_playlist = sp.user_playlist_create(user_id, playlist_name, public=True, description=playlist_description)"
   ]
  },
  {
   "cell_type": "markdown",
   "id": "2cb023b1-3ab4-4d35-9b57-d00c2114cdb7",
   "metadata": {},
   "source": [
    "## Extract track IDs from recommended tracks"
   ]
  },
  {
   "cell_type": "code",
   "execution_count": 44,
   "id": "3df3f136-66e6-4d67-98c7-e4aae9379e76",
   "metadata": {},
   "outputs": [],
   "source": [
    "recommended_track_ids = [track['Track ID'] for track in recommended_tracks]"
   ]
  },
  {
   "cell_type": "markdown",
   "id": "bfa40a2c-3598-4c92-83ea-8962cdc04a26",
   "metadata": {},
   "source": [
    "## Add tracks to the new playlist "
   ]
  },
  {
   "cell_type": "code",
   "execution_count": 46,
   "id": "cebde9a2-bbba-41db-a772-4c1e6bcaa15b",
   "metadata": {},
   "outputs": [
    {
     "data": {
      "text/plain": [
       "{'snapshot_id': 'AAAAAlBSif7AFldU0nhybQS28OnqnQ/u'}"
      ]
     },
     "execution_count": 46,
     "metadata": {},
     "output_type": "execute_result"
    }
   ],
   "source": [
    "sp.playlist_add_items(new_playlist['id'], recommended_track_ids)"
   ]
  },
  {
   "cell_type": "markdown",
   "id": "957b99ed-b6f7-430d-8e5f-b0df6d8e6d05",
   "metadata": {},
   "source": [
    "## Print the new playlist URL"
   ]
  },
  {
   "cell_type": "code",
   "execution_count": 48,
   "id": "79f11199-63e1-4750-9814-ba672d75ef45",
   "metadata": {},
   "outputs": [
    {
     "name": "stdout",
     "output_type": "stream",
     "text": [
      "New Playlist URL: https://open.spotify.com/playlist/6WSRdLlk8PO77xSQCxxZDC\n"
     ]
    }
   ],
   "source": [
    "print(f\"New Playlist URL: {new_playlist['external_urls']['spotify']}\")"
   ]
  },
  {
   "cell_type": "markdown",
   "id": "693ca7c0-fa97-4331-8928-b824b7ee81ca",
   "metadata": {},
   "source": [
    "## Print the tracks added to the playlist"
   ]
  },
  {
   "cell_type": "code",
   "execution_count": 50,
   "id": "6019ea8f-9a9e-41b7-a439-4e555cac957a",
   "metadata": {},
   "outputs": [
    {
     "name": "stdout",
     "output_type": "stream",
     "text": [
      "Added Track: HIGHJACK by A$AP Rocky, Jessica Pratt\n",
      "Added Track: Die With A Smile by Lady Gaga, Bruno Mars\n",
      "Added Track: Soun tha mi primer amor by Kinky\n",
      "Added Track: Death On Two Legs (Dedicated To...) - Remastered 2011 by Queen\n",
      "Added Track: Jackie Chan by Tiësto, Dzeko, Preme, Post Malone\n",
      "Added Track: Lux Aeterna by Clint Mansell, Kronos Quartet\n",
      "Added Track: Pardon Me (Lil Yachty feat. Future & Mike WiLL Made-It) by Lil Yachty, Future, Mike WiLL Made-It\n",
      "Added Track: Loca by La Garfield\n",
      "Added Track: Quiero Estar by Bratty\n",
      "Added Track: Losing My Religion by R.E.M.\n",
      "Added Track: Wishing by Alexis Ffrench\n",
      "Added Track: Lo Mejor, Lo Peor by Okills\n",
      "Added Track: hakuna matata by Gunna\n",
      "Added Track: Knockin' On Heaven's Door by Guns N' Roses\n",
      "Added Track: Quisiera Saber (with Natalia Lafourcade) by Los Daniels, Natalia Lafourcade\n",
      "Added Track: Something Just Like This by The Chainsmokers, Coldplay\n",
      "Added Track: Immigrant Song - Remaster by Led Zeppelin\n",
      "Added Track: More Than My Hometown by Morgan Wallen\n",
      "Added Track: Ella Estrella by La Gusana Ciega\n",
      "Added Track: Lord Pretty Flacko Jodye 2 (LPFJ2) by A$AP Rocky\n",
      "Added Track: Tennessee Orange by Megan Moroney\n",
      "Added Track: A Kind Of Magic - Remastered 2011 by Queen\n",
      "Added Track: Cada Martes by División Minúscula\n",
      "Added Track: Beautiful Things by Benson Boone\n",
      "Added Track: L'étudiante et Monsieur Henri: ouverture by Laurent Aknin\n"
     ]
    }
   ],
   "source": [
    "for track in recommended_tracks:\n",
    "    print(f\"Added Track: {track['Track Name']} by {track['Artist']}\")"
   ]
  },
  {
   "cell_type": "markdown",
   "id": "b5a0f927-f2c3-47a4-b2c7-29ad6826578b",
   "metadata": {},
   "source": [
    "## Create a DataFrame to store the recommended tracks"
   ]
  },
  {
   "cell_type": "code",
   "execution_count": 54,
   "id": "efe809be-56e2-49af-a003-10164dfe423e",
   "metadata": {},
   "outputs": [],
   "source": [
    "fernandas_recommendation_playlist_3 = pd.DataFrame(recommended_tracks)"
   ]
  },
  {
   "cell_type": "code",
   "execution_count": 56,
   "id": "1f41eb46-66eb-4676-9f19-f4b3162ddde3",
   "metadata": {},
   "outputs": [
    {
     "data": {
      "text/html": [
       "<div>\n",
       "<style scoped>\n",
       "    .dataframe tbody tr th:only-of-type {\n",
       "        vertical-align: middle;\n",
       "    }\n",
       "\n",
       "    .dataframe tbody tr th {\n",
       "        vertical-align: top;\n",
       "    }\n",
       "\n",
       "    .dataframe thead th {\n",
       "        text-align: right;\n",
       "    }\n",
       "</style>\n",
       "<table border=\"1\" class=\"dataframe\">\n",
       "  <thead>\n",
       "    <tr style=\"text-align: right;\">\n",
       "      <th></th>\n",
       "      <th>Track ID</th>\n",
       "      <th>Track Name</th>\n",
       "      <th>Artist</th>\n",
       "    </tr>\n",
       "  </thead>\n",
       "  <tbody>\n",
       "    <tr>\n",
       "      <th>0</th>\n",
       "      <td>57L5EYzCfHS7Jd58rV33lW</td>\n",
       "      <td>HIGHJACK</td>\n",
       "      <td>A$AP Rocky, Jessica Pratt</td>\n",
       "    </tr>\n",
       "    <tr>\n",
       "      <th>1</th>\n",
       "      <td>2plbrEY59IikOBgBGLjaoe</td>\n",
       "      <td>Die With A Smile</td>\n",
       "      <td>Lady Gaga, Bruno Mars</td>\n",
       "    </tr>\n",
       "    <tr>\n",
       "      <th>2</th>\n",
       "      <td>0D5ZfqqiRZyNYO6C2g4J1C</td>\n",
       "      <td>Soun tha mi primer amor</td>\n",
       "      <td>Kinky</td>\n",
       "    </tr>\n",
       "    <tr>\n",
       "      <th>3</th>\n",
       "      <td>2MvRMWU2ILRcFEU8WWbuP8</td>\n",
       "      <td>Death On Two Legs (Dedicated To...) - Remaster...</td>\n",
       "      <td>Queen</td>\n",
       "    </tr>\n",
       "    <tr>\n",
       "      <th>4</th>\n",
       "      <td>4vvnuJlgBeNVwq3TNmLMNX</td>\n",
       "      <td>Jackie Chan</td>\n",
       "      <td>Tiësto, Dzeko, Preme, Post Malone</td>\n",
       "    </tr>\n",
       "    <tr>\n",
       "      <th>5</th>\n",
       "      <td>62Da3JOu9H9EIgmqV7DoLG</td>\n",
       "      <td>Lux Aeterna</td>\n",
       "      <td>Clint Mansell, Kronos Quartet</td>\n",
       "    </tr>\n",
       "    <tr>\n",
       "      <th>6</th>\n",
       "      <td>1sxGIhaxY8eF52e1TlShSP</td>\n",
       "      <td>Pardon Me (Lil Yachty feat. Future &amp; Mike WiLL...</td>\n",
       "      <td>Lil Yachty, Future, Mike WiLL Made-It</td>\n",
       "    </tr>\n",
       "    <tr>\n",
       "      <th>7</th>\n",
       "      <td>0hLaqSTEwAqYfrn6Tz3gIp</td>\n",
       "      <td>Loca</td>\n",
       "      <td>La Garfield</td>\n",
       "    </tr>\n",
       "    <tr>\n",
       "      <th>8</th>\n",
       "      <td>7EjYMczG2zkInd4Rs5Y2Oc</td>\n",
       "      <td>Quiero Estar</td>\n",
       "      <td>Bratty</td>\n",
       "    </tr>\n",
       "    <tr>\n",
       "      <th>9</th>\n",
       "      <td>31AOj9sFz2gM0O3hMARRBx</td>\n",
       "      <td>Losing My Religion</td>\n",
       "      <td>R.E.M.</td>\n",
       "    </tr>\n",
       "    <tr>\n",
       "      <th>10</th>\n",
       "      <td>2DCB7vBKleDUerpJErGyr2</td>\n",
       "      <td>Wishing</td>\n",
       "      <td>Alexis Ffrench</td>\n",
       "    </tr>\n",
       "    <tr>\n",
       "      <th>11</th>\n",
       "      <td>7llSV9mWATUeGNxJMik2Vg</td>\n",
       "      <td>Lo Mejor, Lo Peor</td>\n",
       "      <td>Okills</td>\n",
       "    </tr>\n",
       "    <tr>\n",
       "      <th>12</th>\n",
       "      <td>32TTewBmtmhUmYxS1ajqaJ</td>\n",
       "      <td>hakuna matata</td>\n",
       "      <td>Gunna</td>\n",
       "    </tr>\n",
       "    <tr>\n",
       "      <th>13</th>\n",
       "      <td>4JiEyzf0Md7KEFFGWDDdCr</td>\n",
       "      <td>Knockin' On Heaven's Door</td>\n",
       "      <td>Guns N' Roses</td>\n",
       "    </tr>\n",
       "    <tr>\n",
       "      <th>14</th>\n",
       "      <td>7ETuZtnJJ1brMNiPpd2LFg</td>\n",
       "      <td>Quisiera Saber (with Natalia Lafourcade)</td>\n",
       "      <td>Los Daniels, Natalia Lafourcade</td>\n",
       "    </tr>\n",
       "    <tr>\n",
       "      <th>15</th>\n",
       "      <td>6RUKPb4LETWmmr3iAEQktW</td>\n",
       "      <td>Something Just Like This</td>\n",
       "      <td>The Chainsmokers, Coldplay</td>\n",
       "    </tr>\n",
       "    <tr>\n",
       "      <th>16</th>\n",
       "      <td>78lgmZwycJ3nzsdgmPPGNx</td>\n",
       "      <td>Immigrant Song - Remaster</td>\n",
       "      <td>Led Zeppelin</td>\n",
       "    </tr>\n",
       "    <tr>\n",
       "      <th>17</th>\n",
       "      <td>5OELUCYgOHKFAvCERnAvfS</td>\n",
       "      <td>More Than My Hometown</td>\n",
       "      <td>Morgan Wallen</td>\n",
       "    </tr>\n",
       "    <tr>\n",
       "      <th>18</th>\n",
       "      <td>0M9vqmNE0VfBN3Vhxnxdmq</td>\n",
       "      <td>Ella Estrella</td>\n",
       "      <td>La Gusana Ciega</td>\n",
       "    </tr>\n",
       "    <tr>\n",
       "      <th>19</th>\n",
       "      <td>1j6kDJttn6wbVyMaM42Nxm</td>\n",
       "      <td>Lord Pretty Flacko Jodye 2 (LPFJ2)</td>\n",
       "      <td>A$AP Rocky</td>\n",
       "    </tr>\n",
       "    <tr>\n",
       "      <th>20</th>\n",
       "      <td>6DLbBlGIOjjEj0dNN25zhZ</td>\n",
       "      <td>Tennessee Orange</td>\n",
       "      <td>Megan Moroney</td>\n",
       "    </tr>\n",
       "    <tr>\n",
       "      <th>21</th>\n",
       "      <td>5RYLa5P4qweEAKq5U1gdcK</td>\n",
       "      <td>A Kind Of Magic - Remastered 2011</td>\n",
       "      <td>Queen</td>\n",
       "    </tr>\n",
       "    <tr>\n",
       "      <th>22</th>\n",
       "      <td>633VOh3BMvZ9YNEIZM6V3W</td>\n",
       "      <td>Cada Martes</td>\n",
       "      <td>División Minúscula</td>\n",
       "    </tr>\n",
       "    <tr>\n",
       "      <th>23</th>\n",
       "      <td>3xkHsmpQCBMytMJNiDf3Ii</td>\n",
       "      <td>Beautiful Things</td>\n",
       "      <td>Benson Boone</td>\n",
       "    </tr>\n",
       "    <tr>\n",
       "      <th>24</th>\n",
       "      <td>0pHAURj0irfaobdPdjbZZl</td>\n",
       "      <td>L'étudiante et Monsieur Henri: ouverture</td>\n",
       "      <td>Laurent Aknin</td>\n",
       "    </tr>\n",
       "  </tbody>\n",
       "</table>\n",
       "</div>"
      ],
      "text/plain": [
       "                  Track ID                                         Track Name  \\\n",
       "0   57L5EYzCfHS7Jd58rV33lW                                           HIGHJACK   \n",
       "1   2plbrEY59IikOBgBGLjaoe                                   Die With A Smile   \n",
       "2   0D5ZfqqiRZyNYO6C2g4J1C                            Soun tha mi primer amor   \n",
       "3   2MvRMWU2ILRcFEU8WWbuP8  Death On Two Legs (Dedicated To...) - Remaster...   \n",
       "4   4vvnuJlgBeNVwq3TNmLMNX                                        Jackie Chan   \n",
       "5   62Da3JOu9H9EIgmqV7DoLG                                        Lux Aeterna   \n",
       "6   1sxGIhaxY8eF52e1TlShSP  Pardon Me (Lil Yachty feat. Future & Mike WiLL...   \n",
       "7   0hLaqSTEwAqYfrn6Tz3gIp                                               Loca   \n",
       "8   7EjYMczG2zkInd4Rs5Y2Oc                                       Quiero Estar   \n",
       "9   31AOj9sFz2gM0O3hMARRBx                                 Losing My Religion   \n",
       "10  2DCB7vBKleDUerpJErGyr2                                            Wishing   \n",
       "11  7llSV9mWATUeGNxJMik2Vg                                  Lo Mejor, Lo Peor   \n",
       "12  32TTewBmtmhUmYxS1ajqaJ                                      hakuna matata   \n",
       "13  4JiEyzf0Md7KEFFGWDDdCr                          Knockin' On Heaven's Door   \n",
       "14  7ETuZtnJJ1brMNiPpd2LFg           Quisiera Saber (with Natalia Lafourcade)   \n",
       "15  6RUKPb4LETWmmr3iAEQktW                           Something Just Like This   \n",
       "16  78lgmZwycJ3nzsdgmPPGNx                          Immigrant Song - Remaster   \n",
       "17  5OELUCYgOHKFAvCERnAvfS                              More Than My Hometown   \n",
       "18  0M9vqmNE0VfBN3Vhxnxdmq                                      Ella Estrella   \n",
       "19  1j6kDJttn6wbVyMaM42Nxm                 Lord Pretty Flacko Jodye 2 (LPFJ2)   \n",
       "20  6DLbBlGIOjjEj0dNN25zhZ                                   Tennessee Orange   \n",
       "21  5RYLa5P4qweEAKq5U1gdcK                  A Kind Of Magic - Remastered 2011   \n",
       "22  633VOh3BMvZ9YNEIZM6V3W                                        Cada Martes   \n",
       "23  3xkHsmpQCBMytMJNiDf3Ii                                   Beautiful Things   \n",
       "24  0pHAURj0irfaobdPdjbZZl           L'étudiante et Monsieur Henri: ouverture   \n",
       "\n",
       "                                   Artist  \n",
       "0               A$AP Rocky, Jessica Pratt  \n",
       "1                   Lady Gaga, Bruno Mars  \n",
       "2                                   Kinky  \n",
       "3                                   Queen  \n",
       "4       Tiësto, Dzeko, Preme, Post Malone  \n",
       "5           Clint Mansell, Kronos Quartet  \n",
       "6   Lil Yachty, Future, Mike WiLL Made-It  \n",
       "7                             La Garfield  \n",
       "8                                  Bratty  \n",
       "9                                  R.E.M.  \n",
       "10                         Alexis Ffrench  \n",
       "11                                 Okills  \n",
       "12                                  Gunna  \n",
       "13                          Guns N' Roses  \n",
       "14        Los Daniels, Natalia Lafourcade  \n",
       "15             The Chainsmokers, Coldplay  \n",
       "16                           Led Zeppelin  \n",
       "17                          Morgan Wallen  \n",
       "18                        La Gusana Ciega  \n",
       "19                             A$AP Rocky  \n",
       "20                          Megan Moroney  \n",
       "21                                  Queen  \n",
       "22                     División Minúscula  \n",
       "23                           Benson Boone  \n",
       "24                          Laurent Aknin  "
      ]
     },
     "execution_count": 56,
     "metadata": {},
     "output_type": "execute_result"
    }
   ],
   "source": [
    "fernandas_recommendation_playlist_3"
   ]
  },
  {
   "cell_type": "markdown",
   "id": "ba4526c6-7450-4a52-9959-34274bcbfc16",
   "metadata": {},
   "source": [
    "## Playlist insights\n",
    "\n",
    "### •\tThe user-generated playlist contains more popular artists compared to the previous playlist, which was generated using song features to find similar tracks.\n",
    "### •\tFor the new playlist, seed tracks and seed artists were used to generate recommendations instead of using specific track features.\n",
    "### •\tSince 2 seed artists and 3 seed tracks were chosen, the recommended songs feature more well-known artists compared to the earlier playlist that included lesser-known artists.\n",
    "### •\tThe playlist created through seed tracks and artists has a more mainstream selection, with more popular artists making it to the final list.\n",
    "### •\tThere’s a notable increase in hip-hop tracks in the user-generated playlist, influenced by the chosen seed artists.\n",
    "### •\tIn contrast, the project-generated playlists focused on song features and included lesser-known tracks with a more varied genre selection."
   ]
  }
 ],
 "metadata": {
  "kernelspec": {
   "display_name": "Python 3 (ipykernel)",
   "language": "python",
   "name": "python3"
  },
  "language_info": {
   "codemirror_mode": {
    "name": "ipython",
    "version": 3
   },
   "file_extension": ".py",
   "mimetype": "text/x-python",
   "name": "python",
   "nbconvert_exporter": "python",
   "pygments_lexer": "ipython3",
   "version": "3.12.4"
  }
 },
 "nbformat": 4,
 "nbformat_minor": 5
}
