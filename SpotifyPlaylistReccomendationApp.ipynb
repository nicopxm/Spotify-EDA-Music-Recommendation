{
 "cells": [
  {
   "cell_type": "markdown",
   "id": "e07e3809-9593-41a2-be5b-3e31a00e6d73",
   "metadata": {},
   "source": [
    "## Import libraries"
   ]
  },
  {
   "cell_type": "code",
   "execution_count": 1,
   "id": "64cac0fb-f103-42d4-a188-5e76fa9a4813",
   "metadata": {},
   "outputs": [],
   "source": [
    "import spotipy\n",
    "from spotipy.oauth2 import SpotifyOAuth\n",
    "from pyngrok import ngrok\n",
    "import pandas as pd\n",
    "from dotenv import load_dotenv\n",
    "import os\n",
    "import warnings\n",
    "warnings.filterwarnings('ignore')"
   ]
  },
  {
   "cell_type": "markdown",
   "id": "4e3711a0-ce80-451e-952f-0ffc83077084",
   "metadata": {},
   "source": [
    "## Set up ngrok to tunnel the local redirect URI"
   ]
  },
  {
   "cell_type": "code",
   "execution_count": 3,
   "id": "97ec6fee-ea60-4609-8895-1e0b3144b73d",
   "metadata": {},
   "outputs": [
    {
     "name": "stdout",
     "output_type": "stream",
     "text": [
      "Public URL for OAuth callback: NgrokTunnel: \"https://f8a5-129-222-64-120.ngrok-free.app\" -> \"http://localhost:8888\"\n"
     ]
    }
   ],
   "source": [
    "public_url = ngrok.connect(8888)\n",
    "print(f\"Public URL for OAuth callback: {public_url}\")"
   ]
  },
  {
   "cell_type": "markdown",
   "id": "0ded454d-38bf-4f13-b1ab-91c055cac92c",
   "metadata": {},
   "source": [
    "## Load environment variables from the .env file into jupyter notebook"
   ]
  },
  {
   "cell_type": "code",
   "execution_count": 5,
   "id": "b887cc10-79ee-4d20-a114-f6eb13715c0d",
   "metadata": {},
   "outputs": [
    {
     "name": "stdout",
     "output_type": "stream",
     "text": [
      "Client ID and Client Secret are now loaded without showing them in code.\n"
     ]
    }
   ],
   "source": [
    "load_dotenv()\n",
    "\n",
    "client_id = os.getenv('SPOTIPY_CLIENT_ID')\n",
    "client_secret = os.getenv('SPOTIPY_CLIENT_SECRET')\n",
    "redirect_uri = os.getenv('SPOTIPY_REDIRECT_URI')\n",
    "\n",
    "print(\"Client ID and Client Secret are now loaded without showing them in code.\")"
   ]
  },
  {
   "cell_type": "markdown",
   "id": "d09fc835-c724-4871-b2e6-1e7e81cd5a05",
   "metadata": {},
   "source": [
    "## Define the scope of access required for the Spotify API, specifically to modify public playlists\n",
    "## Initialize the SpotifyOAuth object with the required credentials and scope for authorization"
   ]
  },
  {
   "cell_type": "code",
   "execution_count": 7,
   "id": "b9d44eb8-04cc-4fa4-b108-31d6a84e888d",
   "metadata": {},
   "outputs": [],
   "source": [
    "scope = 'playlist-modify-public'\n",
    "\n",
    "sp_oauth = SpotifyOAuth(client_id=client_id,\n",
    "                        client_secret=client_secret,\n",
    "                        redirect_uri=redirect_uri,\n",
    "                        scope=scope)"
   ]
  },
  {
   "cell_type": "markdown",
   "id": "b2e9fdcc-346f-4277-847d-2e688f439fa3",
   "metadata": {},
   "source": [
    "## Create a Spotipy client instance using the authentication manager (sp_oauth) for API access"
   ]
  },
  {
   "cell_type": "code",
   "execution_count": 9,
   "id": "71d54837-6611-49f5-aeaf-cfcbc0f08056",
   "metadata": {},
   "outputs": [],
   "source": [
    "sp = spotipy.Spotify(auth_manager=sp_oauth)"
   ]
  },
  {
   "cell_type": "markdown",
   "id": "12192048-de3c-4e21-845f-0d4146fa0eaa",
   "metadata": {},
   "source": [
    "## Retrieve a list of similar tracks to a given track ID from the Spotify API, filtering the results based on specified popularity thresholds for both the artist and the track itself"
   ]
  },
  {
   "cell_type": "code",
   "execution_count": 11,
   "id": "de1f086f-7071-485b-b36c-cb5780e2c663",
   "metadata": {},
   "outputs": [],
   "source": [
    "def get_similar_tracks(track_id, limit=50, artist_popularity_limit=75, track_popularity_limit=60):\n",
    "    \"\"\"Fetches similar tracks to the given track_id, filtering by popularity.\"\"\"\n",
    "    recommendations = sp.recommendations(seed_tracks=[track_id], limit=limit)\n",
    "    \n",
    "    similar_tracks = []\n",
    "    for track in recommendations['tracks']:\n",
    "        artist_popularity = sp.artist(track['artists'][0]['id'])['popularity']\n",
    "        track_popularity = track['popularity']\n",
    "        \n",
    "        if artist_popularity <= artist_popularity_limit and track_popularity <= track_popularity_limit:\n",
    "            similar_tracks.append(track['id'])\n",
    "    \n",
    "    return similar_tracks"
   ]
  },
  {
   "cell_type": "markdown",
   "id": "31c3ddd1-b369-443b-9f8b-133cd903354f",
   "metadata": {},
   "source": [
    "## Create Spotify playlist based on a DataFrame of favorite tracks by fetching similar songs and adding them to the newly created playlist, while providing a summary of the number of tracks added"
   ]
  },
  {
   "cell_type": "code",
   "execution_count": 13,
   "id": "fdc42b59-9909-4f86-ad0e-d16eb3e32eaa",
   "metadata": {},
   "outputs": [],
   "source": [
    "def create_playlist_from_df(sp, username, df, playlist_name, playlist_description):\n",
    "    \"\"\"Creates a playlist from a dataframe of favorite tracks, fetching similar songs.\"\"\"\n",
    "    playlist = sp.user_playlist_create(user=username, name=playlist_name, public=True, description=playlist_description)\n",
    "    \n",
    "    all_similar_tracks = []\n",
    "    for track_id in df['track_id']: \n",
    "        similar_tracks = get_similar_tracks(track_id)\n",
    "        all_similar_tracks.extend(similar_tracks)\n",
    "    \n",
    "    track_uris = []\n",
    "    for track_id in all_similar_tracks[:50]: \n",
    "        track_details = sp.track(track_id)\n",
    "        track_uris.append(track_details['uri'])\n",
    "    \n",
    "    sp.playlist_add_items(playlist_id=playlist['id'], items=track_uris)  \n",
    "\n",
    "    print(f\"Playlist '{playlist_name}' created with {len(track_uris)} tracks.\")\n",
    "    \n",
    "    return track_uris, playlist"
   ]
  },
  {
   "cell_type": "markdown",
   "id": "1f493b44-a4af-4a7e-873c-334ca272ae39",
   "metadata": {},
   "source": [
    "## Load CSV files containing favorite tracks into pandas Dataframes"
   ]
  },
  {
   "cell_type": "code",
   "execution_count": 15,
   "id": "5822029f-c722-4fbc-bb6f-dbc382c94c6e",
   "metadata": {},
   "outputs": [],
   "source": [
    "fav_house_tracks = pd.read_csv('fav_tracks_house_3.csv')\n",
    "fav_reggaeton_tracks = pd.read_csv('fav_tracks_reggaeton_3.csv')"
   ]
  },
  {
   "cell_type": "markdown",
   "id": "0074075e-e023-4ba4-890c-bdddedae814a",
   "metadata": {},
   "source": [
    "## Creates two playlists on Spotify—one for house tracks and one for reggaeton tracks "
   ]
  },
  {
   "cell_type": "code",
   "execution_count": 17,
   "id": "5cef1ca2-c2eb-4f08-b622-e11b5fe52291",
   "metadata": {},
   "outputs": [
    {
     "name": "stdout",
     "output_type": "stream",
     "text": [
      "Playlist 'Similar House Tracks' created with 43 tracks.\n",
      "Playlist 'Similar Reggaeton Tracks' created with 8 tracks.\n",
      "\n",
      "House Playlist URL: https://open.spotify.com/playlist/5ukSsNuRz87ZB6mobhdFlL\n",
      "Reggaeton Playlist URL: https://open.spotify.com/playlist/1Z3c51s65ZNTeHeZCkoyLf\n"
     ]
    }
   ],
   "source": [
    "house_tracks, house_playlist = create_playlist_from_df(sp, username='1272030812', df=fav_house_tracks, \n",
    "                                         playlist_name=\"Similar House Tracks\", \n",
    "                                         playlist_description=\"50 songs similar to my favorite house tracks\")\n",
    "\n",
    "reggaeton_tracks, reggaeton_playlist = create_playlist_from_df(sp, username='1272030812', df=fav_reggaeton_tracks, \n",
    "                                             playlist_name=\"Similar Reggaeton Tracks\", \n",
    "                                             playlist_description=\"50 songs similar to my favorite reggaeton tracks\")\n",
    "\n",
    "# Print playlist URLs\n",
    "print(f\"\\nHouse Playlist URL: {house_playlist['external_urls']['spotify']}\")\n",
    "print(f\"Reggaeton Playlist URL: {reggaeton_playlist['external_urls']['spotify']}\")"
   ]
  },
  {
   "cell_type": "markdown",
   "id": "8bbf8f83-d268-4c47-bbcc-1d569a05dfdc",
   "metadata": {},
   "source": [
    "## Display the tracks that were added to the house and reggaeton playlists"
   ]
  },
  {
   "cell_type": "code",
   "execution_count": 19,
   "id": "0fd94340-ce20-477f-b357-4968246fafcd",
   "metadata": {},
   "outputs": [
    {
     "name": "stdout",
     "output_type": "stream",
     "text": [
      "\n",
      "Tracks added to the House Playlist:\n",
      "Added Track: What To Do - &ME Remix by Guy Gerber, &ME\n",
      "Added Track: Alegria by ARYMÉ, Osfur\n",
      "Added Track: Pantheon by Argy, Goom Gum\n",
      "Added Track: Dare Your Move by MAXI MERAKI\n",
      "Added Track: Crazy by Datta Boy, Malachiii\n",
      "Added Track: Mwaki by Zerb, Sofiya Nzau\n",
      "Added Track: Povoada - Remix by Sued Nunes, Maz, Antdot\n",
      "Added Track: Mood by Makar\n",
      "Added Track: All You Children by Jamie xx, The Avalanches\n",
      "Added Track: Heartless by WhoMadeWho, Kölsch\n",
      "Added Track: Next To Me by Malachiii\n",
      "Added Track: Electric Feel by James Carter, Malou\n",
      "Added Track: My Love for You (Yebba's Heartbreak) by Marten Lou\n",
      "Added Track: Second Chances by Wakyin, Chasity, PitchBLK\n",
      "Added Track: Bloody Samaritan by Double MZK\n",
      "Added Track: Pantheon by Argy, Goom Gum\n",
      "Added Track: Povoada - Remix by Sued Nunes, Maz, Antdot\n",
      "Added Track: Wish We Could by Nico de Andrea, Darla Jade, Syon\n",
      "Added Track: Alegria by ARYMÉ, Osfur\n",
      "Added Track: Voyage Voyage by Francis Mercier, Mont Rouge, Coco\n",
      "Added Track: 3 Sense by Eran Hersh, Anorre, The NGHBRS\n",
      "Added Track: FUKINASTY by Amine Edge & DANCE, HUGEL, DJ Rush\n",
      "Added Track: PINACOLADA (Stirred) - Acoustic by Thisizlondon, Ayra Starr, 6LACK\n",
      "Added Track: All I Have (Jan Blomqvist Remix) by RY X, Jan Blomqvist\n",
      "Added Track: Distraction by Nu Aspect, Jem Cooke\n",
      "Added Track: Find Love Now by Cheat Codes, Punctual, Raphaella\n",
      "Added Track: Broken Angel (feat. Helena) by Arash, Helena\n",
      "Added Track: You Were Right by RÜFÜS DU SOL\n",
      "Added Track: Take Me Away by ACRAZE\n",
      "Added Track: Gimme That Bounce by Mau P\n",
      "Added Track: BEATS FOR THE UNDERGROUND by Mau P\n",
      "Added Track: Breathe You In (feat. NORTH) by Gorgon City, NORTH\n",
      "Added Track: Sun Goes Down by Cloonee\n",
      "Added Track: Fuck The Pain Away by Hannah Laing, Peaches\n",
      "Added Track: Free Your Body by Chris Lake, Solardo\n",
      "Added Track: Fetish by Solardo, it's murph, ero808\n",
      "Added Track: SexyBack by Don Diablo\n",
      "Added Track: Rhyme Dust - Extended by MK, Dom Dolla\n",
      "Added Track: Moon Groove by Noizu\n",
      "Added Track: Satellite by Dimension, Alison Wonderland\n",
      "Added Track: Number 1 by James Hype, Major Lazer\n",
      "Added Track: Throw Some Ass by Sofi Tukker\n",
      "Added Track: Tears (with Paige Cavell) - Max Styler Remix by John Summit, Paige Cavell, Max Styler\n",
      "\n",
      "Tracks added to the Reggaeton Playlist:\n",
      "Added Track: Mela by Nio Garcia, Blessd, SOG\n",
      "Added Track: Perreo en La Luna by Rich Music LTD, Sech, Dalex, Justin Quiles, Lenny Tavárez, Feid\n",
      "Added Track: Yo Sabía by Gaby Music, Zion & Lennox, Chanell\n",
      "Added Track: Gucci Slides by Tati, Rvssian\n",
      "Added Track: Krippy Kush by Rosalia Farruko, Bad Bunny, Rvssian\n",
      "Added Track: RD by Alejandro Armes, Soyneel, DJ Nelson\n",
      "Added Track: Infiel by Eix, Brytiago, Rauw Alejandro, Los Fantastikos\n",
      "Added Track: Celosa by Omy de Oro, Nio Garcia\n"
     ]
    }
   ],
   "source": [
    "def print_added_tracks(track_uris):\n",
    "    \"\"\"Prints the names of tracks given their URIs.\"\"\"\n",
    "    for uri in track_uris:\n",
    "        track_details = sp.track(uri)\n",
    "        print(f\"Added Track: {track_details['name']} by {', '.join(artist['name'] for artist in track_details['artists'])}\")\n",
    "\n",
    "print(\"\\nTracks added to the House Playlist:\")\n",
    "print_added_tracks(house_tracks)\n",
    "\n",
    "print(\"\\nTracks added to the Reggaeton Playlist:\")\n",
    "print_added_tracks(reggaeton_tracks)"
   ]
  }
 ],
 "metadata": {
  "kernelspec": {
   "display_name": "Python 3 (ipykernel)",
   "language": "python",
   "name": "python3"
  },
  "language_info": {
   "codemirror_mode": {
    "name": "ipython",
    "version": 3
   },
   "file_extension": ".py",
   "mimetype": "text/x-python",
   "name": "python",
   "nbconvert_exporter": "python",
   "pygments_lexer": "ipython3",
   "version": "3.12.4"
  }
 },
 "nbformat": 4,
 "nbformat_minor": 5
}
